{
  "nbformat": 4,
  "nbformat_minor": 0,
  "metadata": {
    "colab": {
      "provenance": []
    },
    "kernelspec": {
      "name": "python3",
      "display_name": "Python 3"
    },
    "accelerator": "GPU"
  },
  "cells": [
    {
      "cell_type": "markdown",
      "metadata": {
        "id": "AFsF7jpRisM1"
      },
      "source": [
        "# setting up GPU"
      ]
    },
    {
      "cell_type": "code",
      "metadata": {
        "id": "fNtyDyTKwGDZ"
      },
      "source": [
        "# clone darknet repo\n",
        "!git clone https://github.com/AlexeyAB/darknet"
      ],
      "execution_count": null,
      "outputs": []
    },
    {
      "cell_type": "code",
      "metadata": {
        "id": "kFTCw10iwRnI"
      },
      "source": [
        "# change makefile to have GPU and OPENCV enabled\n",
        "%cd darknet\n",
        "!sed -i 's/OPENCV=0/OPENCV=1/' Makefile\n",
        "!sed -i 's/GPU=0/GPU=1/' Makefile\n",
        "!sed -i 's/CUDNN=0/CUDNN=1/' Makefile"
      ],
      "execution_count": null,
      "outputs": []
    },
    {
      "cell_type": "code",
      "metadata": {
        "id": "H7YikJXhwZSg"
      },
      "source": [
        "# verify CUDA\n",
        "!/usr/local/cuda/bin/nvcc --version"
      ],
      "execution_count": null,
      "outputs": []
    },
    {
      "cell_type": "code",
      "metadata": {
        "id": "urXJ6AWBwn8N"
      },
      "source": [
        "# make darknet (build)\n",
        "!make"
      ],
      "execution_count": null,
      "outputs": []
    },
    {
      "cell_type": "code",
      "metadata": {
        "id": "kD2FoAmywriv"
      },
      "source": [
        "# define helper functions\n",
        "def imShow(path):\n",
        "  import cv2\n",
        "  import matplotlib.pyplot as plt\n",
        "  %matplotlib inline\n",
        "\n",
        "  image = cv2.imread(path)\n",
        "  height, width = image.shape[:2]\n",
        "  resized_image = cv2.resize(image,(3*width, 3*height), interpolation = cv2.INTER_CUBIC)\n",
        "\n",
        "  fig = plt.gcf()\n",
        "  fig.set_size_inches(18, 10)\n",
        "  plt.axis(\"off\")\n",
        "  plt.imshow(cv2.cvtColor(resized_image, cv2.COLOR_BGR2RGB))\n",
        "  plt.show()\n",
        "\n",
        "# use this to upload files\n",
        "def upload():\n",
        "  from google.colab import files\n",
        "  uploaded = files.upload()\n",
        "  for name, data in uploaded.items():\n",
        "    with open(name, 'wb') as f:\n",
        "      f.write(data)\n",
        "      print ('saved file', name)\n",
        "\n",
        "# use this to download a file\n",
        "def download(path):\n",
        "  from google.colab import files\n",
        "  files.download(path)"
      ],
      "execution_count": null,
      "outputs": []
    },
    {
      "cell_type": "markdown",
      "metadata": {
        "id": "_DQuMHdqlnOW"
      },
      "source": [
        "# mounting google drive for data"
      ]
    },
    {
      "cell_type": "code",
      "metadata": {
        "id": "HvZXwBSEwx_n"
      },
      "source": [
        "# mounting google drive\n",
        "%cd ..\n",
        "from google.colab import drive\n",
        "drive.mount('/content/gdrive')"
      ],
      "execution_count": null,
      "outputs": []
    },
    {
      "cell_type": "code",
      "metadata": {
        "id": "yETsya3QxALo"
      },
      "source": [
        "# this creates a symbolic link so that now the path /content/gdrive/My\\ Drive/ is equal to /mydrive\n",
        "!ln -s /content/gdrive/My\\ Drive/ /mydrive\n",
        "!ls /mydrive"
      ],
      "execution_count": null,
      "outputs": []
    },
    {
      "cell_type": "markdown",
      "metadata": {
        "id": "u-bZ-YyfpJ4V"
      },
      "source": [
        "From github copy all file from *crop_weed_detection_training* folder and make *Agriculture* (same name requires) folder and paste."
      ]
    },
    {
      "cell_type": "code",
      "metadata": {
        "id": "gGzawOj5xPo1"
      },
      "source": [
        "!ls /mydrive/Agriculture"
      ],
      "execution_count": null,
      "outputs": []
    },
    {
      "cell_type": "markdown",
      "metadata": {
        "id": "bEQlbn5wiimG"
      },
      "source": [
        "# Downloading dataset\n",
        "\n",
        "Please follow the steps below to download and use kaggle data within Google Colab:\n",
        "\n",
        "1. Go to you kaggle > account, Scroll to API section and Click Expire API Token(if you have created previously)  to remove previous tokens\n",
        "\n",
        "2. Click on Create New API Token - It will download kaggle.json file on your machine.\n",
        "\n",
        "3. Now just run bellow cell."
      ]
    },
    {
      "cell_type": "code",
      "metadata": {
        "id": "mdB-AB-rh6sB"
      },
      "source": [
        "!pip install -q kaggle"
      ],
      "execution_count": null,
      "outputs": []
    },
    {
      "cell_type": "code",
      "metadata": {
        "id": "-OXhiIrTkDlI"
      },
      "source": [
        "from google.colab import files"
      ],
      "execution_count": null,
      "outputs": []
    },
    {
      "cell_type": "code",
      "metadata": {
        "id": "BYiorn5ZkDyC"
      },
      "source": [
        "#upload kaggle.json file which you downloaded earlier\n",
        "files.upload()"
      ],
      "execution_count": null,
      "outputs": []
    },
    {
      "cell_type": "code",
      "metadata": {
        "id": "_8qYtZfmkD6D"
      },
      "source": [
        "! mkdir ~/.kaggle\n",
        "! cp kaggle.json ~/.kaggle/\n",
        "! chmod 600 ~/.kaggle/kaggle.json"
      ],
      "execution_count": null,
      "outputs": []
    },
    {
      "cell_type": "code",
      "metadata": {
        "id": "PGpNGkWFkEFO"
      },
      "source": [
        "! kaggle datasets list"
      ],
      "execution_count": null,
      "outputs": []
    },
    {
      "cell_type": "code",
      "metadata": {
        "id": "YfTScan9kEJJ"
      },
      "source": [
        "!kaggle datasets download -d ravirajsinh45/crop-and-weed-detection-data-with-bounding-boxes"
      ],
      "execution_count": null,
      "outputs": []
    },
    {
      "cell_type": "code",
      "metadata": {
        "id": "c0k5kylb1aUw"
      },
      "source": [
        "%cd darknet"
      ],
      "execution_count": null,
      "outputs": []
    },
    {
      "cell_type": "code",
      "metadata": {
        "id": "7qPu6Qvlp934"
      },
      "source": [
        "# unzip the zip file and its contents should now be in /darknet/data/obj\n",
        "!unzip ../crop-and-weed-detection-data-with-bounding-boxes.zip -d data/"
      ],
      "execution_count": null,
      "outputs": []
    },
    {
      "cell_type": "code",
      "metadata": {
        "id": "LrXX_NDWqB3K"
      },
      "source": [
        "# upload the custom .cfg back to cloud VM from Google Drive\n",
        "!cp /mydrive/Agriculture/crop_weed.cfg ./cfg\n",
        "\n",
        "# upload the custom .cfg back to cloud VM from local machine (uncomment to use)\n",
        "#%cd cfg\n",
        "#upload()\n",
        "#%cd .."
      ],
      "execution_count": null,
      "outputs": []
    },
    {
      "cell_type": "code",
      "metadata": {
        "id": "d6yKq__brGF0"
      },
      "source": [
        "# upload the obj.names and obj.data files to cloud VM from Google Drive\n",
        "!cp /mydrive/Agriculture/obj.names ./data\n",
        "!cp /mydrive/Agriculture/obj.data  ./data\n",
        "\n",
        "# upload the obj.names and obj.data files to cloud VM from local machine (uncomment to use)\n",
        "#%cd data\n",
        "#upload()\n",
        "#%cd .."
      ],
      "execution_count": null,
      "outputs": []
    },
    {
      "cell_type": "code",
      "metadata": {
        "id": "R4ORO4eLuY1L"
      },
      "source": [
        "# upload the generate_train.py script to cloud VM from Google Drive\n",
        "!cp /mydrive/Agriculture/generate_train.py ./\n",
        "\n",
        "# upload the generate_train.py script to cloud VM from local machine (uncomment to use)\n",
        "#upload()"
      ],
      "execution_count": null,
      "outputs": []
    },
    {
      "cell_type": "code",
      "metadata": {
        "id": "vkEs59Aku0uM"
      },
      "source": [
        "!python generate_train.py"
      ],
      "execution_count": null,
      "outputs": []
    },
    {
      "cell_type": "code",
      "metadata": {
        "id": "dGglq2pvu5Yl",
        "colab": {
          "base_uri": "https://localhost:8080/",
          "height": 34
        },
        "outputId": "2ebac797-4786-4ff9-926f-e53a6bdf568b"
      },
      "source": [
        "# train.txt file should have to here.\n",
        "!ls data/agri_data"
      ],
      "execution_count": null,
      "outputs": [
        {
          "output_type": "stream",
          "text": [
            "data  train.txt\n"
          ],
          "name": "stdout"
        }
      ]
    },
    {
      "cell_type": "code",
      "metadata": {
        "id": "H8vWvYAEzTNj"
      },
      "source": [
        "# upload pretrained convolutional layer weights\n",
        "!wget http://pjreddie.com/media/files/darknet53.conv.74\n",
        "\n"
      ],
      "execution_count": null,
      "outputs": []
    },
    {
      "cell_type": "code",
      "metadata": {
        "id": "AJqSbN6dylF1"
      },
      "source": [
        "# press ctrl+shift+i than paste below code\n",
        "# open console and paste below code else your runtime will crash after some time\n",
        "'''\n",
        "function ClickConnect(){\n",
        "console.log(\"Working\");\n",
        "document.querySelector(\"colab-toolbar-button#connect\").click()\n",
        "}\n",
        "setInterval(ClickConnect,60000)\n",
        "'''"
      ],
      "execution_count": null,
      "outputs": []
    },
    {
      "cell_type": "markdown",
      "metadata": {
        "id": "LYC8t3iAwgvO"
      },
      "source": [
        "# Training"
      ]
    },
    {
      "cell_type": "code",
      "metadata": {
        "id": "dq4PaMVH4Rmt"
      },
      "source": [
        "# train your custom detector\n",
        "!./darknet detector train data/obj.data cfg/crop_weed.cfg darknet53.conv.74 -dont_show"
      ],
      "execution_count": null,
      "outputs": []
    },
    {
      "cell_type": "code",
      "metadata": {
        "id": "t1WcFT0io5qU"
      },
      "source": [
        "imShow('chart.png')"
      ],
      "execution_count": null,
      "outputs": []
    },
    {
      "cell_type": "code",
      "metadata": {
        "id": "WA9z8lKjrmyz"
      },
      "source": [],
      "execution_count": null,
      "outputs": []
    },
    {
      "cell_type": "markdown",
      "metadata": {
        "id": "ePOg0Q_MyRqK"
      },
      "source": [
        "# Testing"
      ]
    },
    {
      "cell_type": "code",
      "metadata": {
        "id": "ikbCZcoKcFR0"
      },
      "source": [
        "# need to set our custom cfg to test mode\n",
        "%cd cfg\n",
        "!sed -i 's/batch=32/batch=1/' crop_weed.cfg\n",
        "!sed -i 's/subdivisions=16/subdivisions=1/' crop_weed.cfg\n",
        "%cd .."
      ],
      "execution_count": null,
      "outputs": []
    },
    {
      "cell_type": "code",
      "metadata": {
        "id": "h9rVg5e2r9e5"
      },
      "source": [
        "!ls /mydrive/Agriculture/test"
      ],
      "execution_count": null,
      "outputs": []
    },
    {
      "cell_type": "code",
      "metadata": {
        "id": "Zg5Qt-7lvHgW"
      },
      "source": [
        "# run your custom detector with this command (upload an image to your google drive to test, thresh flag sets accuracy that detection must be in order to show it)\n",
        "!./darknet detector test data/obj.data cfg/crop_weed.cfg /mydrive/Agriculture/backup/yolov3_custom_final.weights /mydrive/Agriculture/test/weed_1.jpeg  -thresh 0.3\n",
        "imShow('predictions.jpg')"
      ],
      "execution_count": null,
      "outputs": []
    },
    {
      "cell_type": "code",
      "metadata": {
        "id": "oyHTx7m8mX8v"
      },
      "source": [],
      "execution_count": null,
      "outputs": []
    }
  ]
}